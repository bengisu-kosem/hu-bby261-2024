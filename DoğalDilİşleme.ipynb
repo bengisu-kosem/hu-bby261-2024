{
  "nbformat": 4,
  "nbformat_minor": 0,
  "metadata": {
    "colab": {
      "provenance": [],
      "authorship_tag": "ABX9TyOy9GKFaIsgbczt17HoKJLC",
      "include_colab_link": true
    },
    "kernelspec": {
      "name": "python3",
      "display_name": "Python 3"
    },
    "language_info": {
      "name": "python"
    }
  },
  "cells": [
    {
      "cell_type": "markdown",
      "metadata": {
        "id": "view-in-github",
        "colab_type": "text"
      },
      "source": [
        "<a href=\"https://colab.research.google.com/github/bengisu-kosem/hu-bby261-2024/blob/main/Do%C4%9FalDil%C4%B0%C5%9Fleme.ipynb\" target=\"_parent\"><img src=\"https://colab.research.google.com/assets/colab-badge.svg\" alt=\"Open In Colab\"/></a>"
      ]
    },
    {
      "cell_type": "code",
      "execution_count": 2,
      "metadata": {
        "colab": {
          "base_uri": "https://localhost:8080/"
        },
        "id": "fdhXthdHQjGi",
        "outputId": "5c15b271-5100-4267-e868-3cdf428c310a"
      },
      "outputs": [
        {
          "output_type": "stream",
          "name": "stdout",
          "text": [
            "Bir metin giriniz: Das Oktoberfest ist eines der bekanntesten Feste in Deutschland und zieht jedes Jahr Millionen von Besuchern an. Es findet traditionell in München statt und dauert etwa zwei Wochen. Die Menschen kommen aus der ganzen Welt, um deutsche Kultur, traditionelle Trachten und natürlich das Bier zu genießen. Neben Bierzelten gibt es Fahrgeschäfte, Musik und zahlreiche Essensstände, die typisch deutsche Spezialitäten wie Brezeln, Bratwurst und Schweinshaxen anbieten. Das Oktoberfest symbolisiert Freude, Gemeinschaft und die deutsche Lebensart.\n",
            "Metnin dili: Almanca\n"
          ]
        }
      ],
      "source": [
        "def dosyadan_kelime_listesi(dosya_yolu):\n",
        "    try:\n",
        "        with open(dosya_yolu, \"r\", encoding=\"utf-8\") as dosya:\n",
        "            return {satir.strip().lower() for satir in dosya}\n",
        "    except FileNotFoundError:\n",
        "        print(f\"Hata: '{dosya_yolu}' dosyası bulunamadı.\")\n",
        "        return set()\n",
        "\n",
        "# Dilleri dosyalardan yükleyelim\n",
        "dil_kelimeleri = {\n",
        "    \"Türkçe\": dosyadan_kelime_listesi(\"/content/türkçe.txt\"),\n",
        "    \"Almanca\": dosyadan_kelime_listesi(\"/content/almanca.txt\"),\n",
        "    \"Fransızca\": dosyadan_kelime_listesi(\"/content/fransızca.txt\"),\n",
        "    \"İspanyolca\": dosyadan_kelime_listesi(\"/content/ispanyolca.txt\"),\n",
        "    \"İngilizce\": dosyadan_kelime_listesi(\"/content/ingilizce.txt\")\n",
        "}\n",
        "\n",
        "# Temizleme işlemi: sadece harfleri almak için\n",
        "def kelimeyi_temizle(kelime):\n",
        "    return \"\".join(char for char in kelime if char.isalpha()).lower()\n",
        "\n",
        "def metindeki_dil_tespiti(metin):\n",
        "    kelimeler = metin.lower().split()\n",
        "\n",
        "    # Her dil için sayaçları hesaplama\n",
        "    sayaclar = {dil: sum(1 for kelime in kelimeler if kelimeyi_temizle(kelime) in kelime_listesi)\n",
        "                for dil, kelime_listesi in dil_kelimeleri.items()}\n",
        "\n",
        "    # En yüksek değere sahip dili bul\n",
        "    en_yuksek_dil = max(sayaclar, key=sayaclar.get)\n",
        "    return en_yuksek_dil if sayaclar[en_yuksek_dil] > 0 else \"Dil tespit edilemedi.\"\n",
        "\n",
        "# Örnek kullanım\n",
        "metin = input(\"Bir metin giriniz: \")\n",
        "print(\"Metnin dili:\", metindeki_dil_tespiti(metin))\n"
      ]
    }
  ]
}