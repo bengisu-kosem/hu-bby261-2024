{
  "nbformat": 4,
  "nbformat_minor": 0,
  "metadata": {
    "colab": {
      "provenance": [],
      "authorship_tag": "ABX9TyMdhvDb2+vUGAthXtTankIn",
      "include_colab_link": true
    },
    "kernelspec": {
      "name": "python3",
      "display_name": "Python 3"
    },
    "language_info": {
      "name": "python"
    }
  },
  "cells": [
    {
      "cell_type": "markdown",
      "metadata": {
        "id": "view-in-github",
        "colab_type": "text"
      },
      "source": [
        "<a href=\"https://colab.research.google.com/github/bengisu-kosem/hu-bby261-2024/blob/main/Do%C4%9FalDil%C4%B0%C5%9FlemeK%C3%BCt%C3%BCphane.ipynb\" target=\"_parent\"><img src=\"https://colab.research.google.com/assets/colab-badge.svg\" alt=\"Open In Colab\"/></a>"
      ]
    },
    {
      "cell_type": "code",
      "execution_count": null,
      "metadata": {
        "id": "nr1C_X8vR2fc"
      },
      "outputs": [],
      "source": [
        "!pip install langid\n",
        "!pip install langdetect==1.0.9\n",
        "!pip install unidecode==1.3.4"
      ]
    },
    {
      "cell_type": "code",
      "source": [
        "from langdetect import detect\n",
        "from langdetect.lang_detect_exception import LangDetectException\n",
        "\n",
        "# Dil dosyalarını yüklemek için fonksiyon\n",
        "def dosyadan_kelime_listesi_olustur(dosya_yolu):\n",
        "    try:\n",
        "        with open(dosya_yolu, \"r\", encoding=\"utf-8\") as dosya:\n",
        "            kelimeler = [satir.strip().lower() for satir in dosya]\n",
        "        return kelimeler\n",
        "    except FileNotFoundError:\n",
        "        print(f\"Hata: '{dosya_yolu}' dosyası bulunamadı.\")\n",
        "        return []\n",
        "\n",
        "# Dilleri dosyalardan yükle\n",
        "turkce_kelime_ve_ekler = dosyadan_kelime_listesi_olustur(\"/content/türkçe.txt\")\n",
        "almanca_kelime_ve_ekler = dosyadan_kelime_listesi_olustur(\"/content/almanca.txt\")\n",
        "fransizca_kelime_ve_ekler = dosyadan_kelime_listesi_olustur(\"/content/fransızca.txt\")\n",
        "ispanyolca_kelime_ve_ekler = dosyadan_kelime_listesi_olustur(\"/content/ispanyolca.txt\")\n",
        "ingilizce_kelime_ve_ekler = dosyadan_kelime_listesi_olustur(\"/content/ingilizce.txt\")\n",
        "\n",
        "# Dil tespiti fonksiyonu\n",
        "def dil_tespiti(metin):\n",
        "    try:\n",
        "        # Dil tespiti yap\n",
        "        detected_lang = detect(metin)\n",
        "\n",
        "        # Dillerin doğruluğunu kontrol et\n",
        "        if detected_lang == \"tr\":\n",
        "            return \"Türkçe\"\n",
        "        elif detected_lang == \"de\":\n",
        "            return \"Almanca\"\n",
        "        elif detected_lang == \"fr\":\n",
        "            return \"Fransızca\"\n",
        "        elif detected_lang == \"es\":\n",
        "            return \"İspanyolca\"\n",
        "        elif detected_lang == \"en\":\n",
        "            return \"İngilizce\"\n",
        "        else:\n",
        "            return \"Dil tespit edilemedi.\"\n",
        "    except LangDetectException:\n",
        "        return \"Dil tespit edilemedi.\"\n",
        "\n",
        "        from dil_tespiti import dil_tespiti\n",
        "\n",
        "# Kullanıcıdan metin al\n",
        "metin = input(\"Bir metin giriniz: \")\n",
        "print(\"Metnin dili:\", dil_tespiti(metin))\n"
      ],
      "metadata": {
        "id": "p_Boi4gfR3Zi"
      },
      "execution_count": null,
      "outputs": []
    }
  ]
}