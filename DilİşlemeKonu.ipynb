{
  "nbformat": 4,
  "nbformat_minor": 0,
  "metadata": {
    "colab": {
      "provenance": [],
      "mount_file_id": "1mEE_V_mFreZd5XztiRv-FJ_39GKTLvou",
      "authorship_tag": "ABX9TyNJuVc3m/f8Z6jDFzzSWNMs",
      "include_colab_link": true
    },
    "kernelspec": {
      "name": "python3",
      "display_name": "Python 3"
    },
    "language_info": {
      "name": "python"
    }
  },
  "cells": [
    {
      "cell_type": "markdown",
      "metadata": {
        "id": "view-in-github",
        "colab_type": "text"
      },
      "source": [
        "<a href=\"https://colab.research.google.com/github/bengisu-kosem/hu-bby261-2024/blob/main/Dil%C4%B0%C5%9FlemeKonu.ipynb\" target=\"_parent\"><img src=\"https://colab.research.google.com/assets/colab-badge.svg\" alt=\"Open In Colab\"/></a>"
      ]
    },
    {
      "cell_type": "code",
      "execution_count": 1,
      "metadata": {
        "colab": {
          "base_uri": "https://localhost:8080/"
        },
        "id": "fwj8m0yVPCMQ",
        "outputId": "be9c5323-38d4-49ad-8c7a-e358de648f0f"
      },
      "outputs": [
        {
          "output_type": "stream",
          "name": "stdout",
          "text": [
            "Bir metin girin: Milliyetçi Cephe olayı, 1973 seçimiyle oluşan siyasal üstyapının özellikleriyle ve Türkiye sağının geçirdiği değişimle yakından ilişkilidir. 1973 seçim sonrasının genel görünümü, şöyledir4\n",
            "Metnin konusu: Siyaset\n"
          ]
        }
      ],
      "source": [
        "def dosyadan_kelime_kumesi(dosya_adi):\n",
        "    try:\n",
        "        with open(dosya_adi, \"r\", encoding=\"utf-8\") as dosya:\n",
        "            return {satir.strip().lower() for satir in dosya}\n",
        "    except FileNotFoundError:\n",
        "        print(f\"{dosya_adi} dosyası bulunamadı.\")\n",
        "        return set()\n",
        "\n",
        "def konu_basligi_bul(metin):\n",
        "    # Anahtar kelimeleri kümeler halinde yükleme\n",
        "    anahtar_kelimeler = {\n",
        "        \"Siyaset\": dosyadan_kelime_kumesi(\"siyaset.txt\"),\n",
        "        \"Teknoloji\": dosyadan_kelime_kumesi(\"teknoloji.txt\"),\n",
        "        \"Spor\": dosyadan_kelime_kumesi(\"spor.txt\"),\n",
        "        \"Sağlık\": dosyadan_kelime_kumesi(\"saglik.txt\"),\n",
        "        \"Eğlence\": dosyadan_kelime_kumesi(\"eglence.txt\")\n",
        "    }\n",
        "\n",
        "    # Metni küçük harfe çevirip kelimelere ayırma\n",
        "    kelimeler = set(metin.lower().split())\n",
        "\n",
        "    # Her konu başlığı için anahtar kelime sayısını hesaplama\n",
        "    sayaclar = {konu: sum(1 for kelime in kelimeler if kelime in kelime_kumesi)\n",
        "                for konu, kelime_kumesi in anahtar_kelimeler.items()}\n",
        "\n",
        "    # En yüksek sayaca göre başlığı belirleme\n",
        "    max_konu = max(sayaclar, key=sayaclar.get)\n",
        "    return max_konu if sayaclar[max_konu] > 0 else \"Diğer konular\"\n",
        "\n",
        "# Kullanıcıdan metin alma\n",
        "kullanici_metni = input(\"Bir metin girin: \")\n",
        "konu = konu_basligi_bul(kullanici_metni)\n",
        "print(f\"Metnin konusu: {konu}\")\n"
      ]
    }
  ]
}