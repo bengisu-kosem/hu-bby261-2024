{
  "nbformat": 4,
  "nbformat_minor": 0,
  "metadata": {
    "colab": {
      "provenance": [],
      "mount_file_id": "1llpnxkwbzRQjh7tmq6S9NIR3t8GEvTQm",
      "authorship_tag": "ABX9TyNNeEqFsqPJCVNjgUK65TMi",
      "include_colab_link": true
    },
    "kernelspec": {
      "name": "python3",
      "display_name": "Python 3"
    },
    "language_info": {
      "name": "python"
    }
  },
  "cells": [
    {
      "cell_type": "markdown",
      "metadata": {
        "id": "view-in-github",
        "colab_type": "text"
      },
      "source": [
        "<a href=\"https://colab.research.google.com/github/bengisu-kosem/hu-bby261-2024/blob/main/aekProjesi.ipynb\" target=\"_parent\"><img src=\"https://colab.research.google.com/assets/colab-badge.svg\" alt=\"Open In Colab\"/></a>"
      ]
    },
    {
      "cell_type": "code",
      "source": [
        "import xml.etree.ElementTree as ET\n",
        "tree = ET.parse('/content/aekverisi')\n",
        "root = tree.getroot()\n",
        "print(root)"
      ],
      "metadata": {
        "colab": {
          "base_uri": "https://localhost:8080/"
        },
        "id": "tzoiF3N4azvZ",
        "outputId": "d0149663-ab3f-4be3-b3ef-631c869c102e"
      },
      "execution_count": 6,
      "outputs": [
        {
          "output_type": "stream",
          "name": "stdout",
          "text": [
            "<Element 'aeKaynalar' at 0x7ff1664ba1b0>\n"
          ]
        }
      ]
    },
    {
      "cell_type": "code",
      "source": [
        "import xml.etree.ElementTree as ET\n",
        "import os\n",
        "\n",
        "xml_file = \"/content/aekverisi\"\n",
        "\n",
        "def veri_al():\n",
        "    print(\"Lütfen Açık Eğitim Kaynağı bilgilerini girin:\")\n",
        "\n",
        "    title = input(\"Başlık: \")\n",
        "    subject = input(\"Anahtar Kelimeler: \")\n",
        "    description = input(\"Özet: \")\n",
        "    creator = input(\"Oluşturan: \")\n",
        "    license = input(\"Açık Lisans: \")\n",
        "    language = input(\"Dil: \")\n",
        "    identifier = input(\"URL: \")\n",
        "\n",
        "    kaynak_ekle(title, subject, description, creator, license, language, identifier)\n",
        "\n",
        "def kaynak_ekle(title, subject, description, creator, license, language, identifier):\n",
        "    tree = ET.parse(xml_file) if os.path.exists(xml_file) else ET.ElementTree(ET.Element(\"aekKaynaklar\"))\n",
        "    root = tree.getroot()\n",
        "\n",
        "    kaynak = ET.SubElement(root, \"kaynak\")\n",
        "    ET.SubElement(kaynak, \"title\").text = title\n",
        "    ET.SubElement(kaynak, \"subject\").text = subject\n",
        "    ET.SubElement(kaynak, \"description\").text = description\n",
        "    ET.SubElement(kaynak, \"creator\").text = creator\n",
        "    ET.SubElement(kaynak, \"license\").text = license\n",
        "    ET.SubElement(kaynak, \"language\").text = language\n",
        "    ET.SubElement(kaynak, \"identifier\").text = identifier\n",
        "\n",
        "    tree.write(xml_file, encoding=\"utf-8\", xml_declaration=True)\n",
        "    print(\"Veri başarıyla kaydedildi!\\n\")\n",
        "\n"
      ],
      "metadata": {
        "id": "DcYnSi27havK"
      },
      "execution_count": 7,
      "outputs": []
    },
    {
      "cell_type": "code",
      "source": [
        "def verileri_listele():\n",
        "    tree = ET.parse(xml_file)\n",
        "    root = tree.getroot()\n",
        "\n",
        "    print(\"\\nTüm AEK Kaynakları:\")\n",
        "    for kaynak in root.findall(\"kaynak\"):\n",
        "        title = kaynak.find(\"title\").text\n",
        "        subject = kaynak.find(\"subject\").text\n",
        "        description = kaynak.find(\"description\").text\n",
        "        creator = kaynak.find(\"creator\").text\n",
        "        license = kaynak.find(\"license\").text\n",
        "        language = kaynak.find(\"language\").text\n",
        "        identifier = kaynak.find(\"identifier\").text\n",
        "        print(f\"Başlık: {title}, Anahtar Kelimeler: {subject}, Özet: {description}, Yazar: {creator}, Lisans: {license}, Dil: {language}, URL: {identifier}\")\n",
        "    print()\n",
        "\n"
      ],
      "metadata": {
        "id": "kzSBf2-cs8Fz"
      },
      "execution_count": 1,
      "outputs": []
    },
    {
      "cell_type": "code",
      "source": [
        "def arama_yap(kriter, deger):\n",
        "    tree = ET.parse(xml_file)\n",
        "    root = tree.getroot()\n",
        "\n",
        "    print(f\"\\n'{deger}' ile ilgili arama sonuçları:\")\n",
        "    for kaynak in root.findall(\"kaynak\"):\n",
        "        if kriter in kaynak:\n",
        "            if kaynak.find(kriter).text and deger.lower() in kaynak.find(kriter).text.lower():\n",
        "                title = kaynak.find(\"title\").text\n",
        "                subject = kaynak.find(\"subject\").text\n",
        "                description = kaynak.find(\"description\").text\n",
        "                creator = kaynak.find(\"creator\").text\n",
        "                license = kaynak.find(\"license\").text\n",
        "                language = kaynak.find(\"language\").text\n",
        "                identifier = kaynak.find(\"identifier\").text\n",
        "                print(f\"Başlık: {title}, Anahtar Kelimeler: {subject}, Özet: {description}, Yazar: {creator}, Lisans: {license}, Dil: {language}, URL: {identifier}\")\n",
        "    print()\n",
        "\n"
      ],
      "metadata": {
        "id": "VZJvaX1LDVp5"
      },
      "execution_count": 2,
      "outputs": []
    },
    {
      "cell_type": "code",
      "source": [
        "def menu():\n",
        "    while True:\n",
        "        print(\"\\nAçık Eğitim Kaynağı Yönetim Sistemi\")\n",
        "        print(\"1. Yeni AEK Kaynağı Ekle\")\n",
        "        print(\"2. Tüm AEK Kaynaklarını Listele\")\n",
        "        print(\"3. AEK Kaynağı Arama\")\n",
        "        print(\"4. Çıkış\")\n",
        "\n",
        "        secim = input(\"Seçiminizi yapın (1-4): \")\n",
        "\n",
        "        if secim == '1':\n",
        "            veri_al()\n",
        "        elif secim == '2':\n",
        "            verileri_listele()\n",
        "        elif secim == '3':\n",
        "            kriter = input(\"Aramak istediğiniz kriteri girin (title, subject, vb.): \")\n",
        "            deger = input(f\"{kriter} için aramak istediğiniz değeri girin: \")\n",
        "            arama_yap(kriter, deger)\n",
        "        elif secim == '4':\n",
        "            print(\"Çıkılıyor...\")\n",
        "            break\n",
        "        else:\n",
        "            print(\"Geçersiz seçim. Lütfen 1-4 arasında bir seçenek girin.\")\n",
        "\n",
        "if __name__ == \"__main__\":\n",
        "    menu()\n"
      ],
      "metadata": {
        "colab": {
          "base_uri": "https://localhost:8080/",
          "height": 1000
        },
        "id": "1L3zd68NDv4p",
        "outputId": "baf429f8-3b3d-492d-8ce9-b80471dd5c37"
      },
      "execution_count": 8,
      "outputs": [
        {
          "output_type": "stream",
          "name": "stdout",
          "text": [
            "\n",
            "Açık Eğitim Kaynağı Yönetim Sistemi\n",
            "1. Yeni AEK Kaynağı Ekle\n",
            "2. Tüm AEK Kaynaklarını Listele\n",
            "3. AEK Kaynağı Arama\n",
            "4. Çıkış\n",
            "Seçiminizi yapın (1-4): 3\n",
            "Aramak istediğiniz kriteri girin (title, subject, vb.): programlama\n",
            "programlama için aramak istediğiniz değeri girin: python\n",
            "\n",
            "'python' ile ilgili arama sonuçları:\n",
            "\n",
            "\n",
            "Açık Eğitim Kaynağı Yönetim Sistemi\n",
            "1. Yeni AEK Kaynağı Ekle\n",
            "2. Tüm AEK Kaynaklarını Listele\n",
            "3. AEK Kaynağı Arama\n",
            "4. Çıkış\n",
            "Seçiminizi yapın (1-4): makine öğrenmesi\n",
            "Geçersiz seçim. Lütfen 1-4 arasında bir seçenek girin.\n",
            "\n",
            "Açık Eğitim Kaynağı Yönetim Sistemi\n",
            "1. Yeni AEK Kaynağı Ekle\n",
            "2. Tüm AEK Kaynaklarını Listele\n",
            "3. AEK Kaynağı Arama\n",
            "4. Çıkış\n",
            "Seçiminizi yapın (1-4): 3\n",
            "Aramak istediğiniz kriteri girin (title, subject, vb.): makine öğrenmesi\n",
            "makine öğrenmesi için aramak istediğiniz değeri girin: 2\n",
            "\n",
            "'2' ile ilgili arama sonuçları:\n",
            "\n",
            "\n",
            "Açık Eğitim Kaynağı Yönetim Sistemi\n",
            "1. Yeni AEK Kaynağı Ekle\n",
            "2. Tüm AEK Kaynaklarını Listele\n",
            "3. AEK Kaynağı Arama\n",
            "4. Çıkış\n"
          ]
        },
        {
          "output_type": "error",
          "ename": "KeyboardInterrupt",
          "evalue": "Interrupted by user",
          "traceback": [
            "\u001b[0;31m---------------------------------------------------------------------------\u001b[0m",
            "\u001b[0;31mKeyboardInterrupt\u001b[0m                         Traceback (most recent call last)",
            "\u001b[0;32m<ipython-input-8-ee458a0b021f>\u001b[0m in \u001b[0;36m<cell line: 25>\u001b[0;34m()\u001b[0m\n\u001b[1;32m     24\u001b[0m \u001b[0;34m\u001b[0m\u001b[0m\n\u001b[1;32m     25\u001b[0m \u001b[0;32mif\u001b[0m \u001b[0m__name__\u001b[0m \u001b[0;34m==\u001b[0m \u001b[0;34m\"__main__\"\u001b[0m\u001b[0;34m:\u001b[0m\u001b[0;34m\u001b[0m\u001b[0;34m\u001b[0m\u001b[0m\n\u001b[0;32m---> 26\u001b[0;31m     \u001b[0mmenu\u001b[0m\u001b[0;34m(\u001b[0m\u001b[0;34m)\u001b[0m\u001b[0;34m\u001b[0m\u001b[0;34m\u001b[0m\u001b[0m\n\u001b[0m",
            "\u001b[0;32m<ipython-input-8-ee458a0b021f>\u001b[0m in \u001b[0;36mmenu\u001b[0;34m()\u001b[0m\n\u001b[1;32m      7\u001b[0m         \u001b[0mprint\u001b[0m\u001b[0;34m(\u001b[0m\u001b[0;34m\"4. Çıkış\"\u001b[0m\u001b[0;34m)\u001b[0m\u001b[0;34m\u001b[0m\u001b[0;34m\u001b[0m\u001b[0m\n\u001b[1;32m      8\u001b[0m \u001b[0;34m\u001b[0m\u001b[0m\n\u001b[0;32m----> 9\u001b[0;31m         \u001b[0msecim\u001b[0m \u001b[0;34m=\u001b[0m \u001b[0minput\u001b[0m\u001b[0;34m(\u001b[0m\u001b[0;34m\"Seçiminizi yapın (1-4): \"\u001b[0m\u001b[0;34m)\u001b[0m\u001b[0;34m\u001b[0m\u001b[0;34m\u001b[0m\u001b[0m\n\u001b[0m\u001b[1;32m     10\u001b[0m \u001b[0;34m\u001b[0m\u001b[0m\n\u001b[1;32m     11\u001b[0m         \u001b[0;32mif\u001b[0m \u001b[0msecim\u001b[0m \u001b[0;34m==\u001b[0m \u001b[0;34m'1'\u001b[0m\u001b[0;34m:\u001b[0m\u001b[0;34m\u001b[0m\u001b[0;34m\u001b[0m\u001b[0m\n",
            "\u001b[0;32m/usr/local/lib/python3.10/dist-packages/ipykernel/kernelbase.py\u001b[0m in \u001b[0;36mraw_input\u001b[0;34m(self, prompt)\u001b[0m\n\u001b[1;32m    849\u001b[0m                 \u001b[0;34m\"raw_input was called, but this frontend does not support input requests.\"\u001b[0m\u001b[0;34m\u001b[0m\u001b[0;34m\u001b[0m\u001b[0m\n\u001b[1;32m    850\u001b[0m             )\n\u001b[0;32m--> 851\u001b[0;31m         return self._input_request(str(prompt),\n\u001b[0m\u001b[1;32m    852\u001b[0m             \u001b[0mself\u001b[0m\u001b[0;34m.\u001b[0m\u001b[0m_parent_ident\u001b[0m\u001b[0;34m,\u001b[0m\u001b[0;34m\u001b[0m\u001b[0;34m\u001b[0m\u001b[0m\n\u001b[1;32m    853\u001b[0m             \u001b[0mself\u001b[0m\u001b[0;34m.\u001b[0m\u001b[0m_parent_header\u001b[0m\u001b[0;34m,\u001b[0m\u001b[0;34m\u001b[0m\u001b[0;34m\u001b[0m\u001b[0m\n",
            "\u001b[0;32m/usr/local/lib/python3.10/dist-packages/ipykernel/kernelbase.py\u001b[0m in \u001b[0;36m_input_request\u001b[0;34m(self, prompt, ident, parent, password)\u001b[0m\n\u001b[1;32m    893\u001b[0m             \u001b[0;32mexcept\u001b[0m \u001b[0mKeyboardInterrupt\u001b[0m\u001b[0;34m:\u001b[0m\u001b[0;34m\u001b[0m\u001b[0;34m\u001b[0m\u001b[0m\n\u001b[1;32m    894\u001b[0m                 \u001b[0;31m# re-raise KeyboardInterrupt, to truncate traceback\u001b[0m\u001b[0;34m\u001b[0m\u001b[0;34m\u001b[0m\u001b[0m\n\u001b[0;32m--> 895\u001b[0;31m                 \u001b[0;32mraise\u001b[0m \u001b[0mKeyboardInterrupt\u001b[0m\u001b[0;34m(\u001b[0m\u001b[0;34m\"Interrupted by user\"\u001b[0m\u001b[0;34m)\u001b[0m \u001b[0;32mfrom\u001b[0m \u001b[0;32mNone\u001b[0m\u001b[0;34m\u001b[0m\u001b[0;34m\u001b[0m\u001b[0m\n\u001b[0m\u001b[1;32m    896\u001b[0m             \u001b[0;32mexcept\u001b[0m \u001b[0mException\u001b[0m \u001b[0;32mas\u001b[0m \u001b[0me\u001b[0m\u001b[0;34m:\u001b[0m\u001b[0;34m\u001b[0m\u001b[0;34m\u001b[0m\u001b[0m\n\u001b[1;32m    897\u001b[0m                 \u001b[0mself\u001b[0m\u001b[0;34m.\u001b[0m\u001b[0mlog\u001b[0m\u001b[0;34m.\u001b[0m\u001b[0mwarning\u001b[0m\u001b[0;34m(\u001b[0m\u001b[0;34m\"Invalid Message:\"\u001b[0m\u001b[0;34m,\u001b[0m \u001b[0mexc_info\u001b[0m\u001b[0;34m=\u001b[0m\u001b[0;32mTrue\u001b[0m\u001b[0;34m)\u001b[0m\u001b[0;34m\u001b[0m\u001b[0;34m\u001b[0m\u001b[0m\n",
            "\u001b[0;31mKeyboardInterrupt\u001b[0m: Interrupted by user"
          ]
        }
      ]
    }
  ]
}